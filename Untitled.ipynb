{
 "cells": [
  {
   "cell_type": "markdown",
   "id": "ad42e800-8d4f-4803-8d8e-a041fa98fcad",
   "metadata": {},
   "source": [
    "# Aula 1 - Python em Aplicações Ambientais"
   ]
  },
  {
   "cell_type": "code",
   "execution_count": 6,
   "id": "1367ac2c-8dbb-42a5-aed0-85ec88c2ca36",
   "metadata": {},
   "outputs": [
    {
     "name": "stdout",
     "output_type": "stream",
     "text": [
      "Requirement already satisfied: pandas in c:\\users\\rafael.shibayama\\documents\\github\\ens410064\\pyenv\\lib\\site-packages (2.2.3)\n",
      "Requirement already satisfied: numpy>=1.26.0 in c:\\users\\rafael.shibayama\\documents\\github\\ens410064\\pyenv\\lib\\site-packages (from pandas) (2.1.1)\n",
      "Requirement already satisfied: python-dateutil>=2.8.2 in c:\\users\\rafael.shibayama\\documents\\github\\ens410064\\pyenv\\lib\\site-packages (from pandas) (2.9.0.post0)\n",
      "Requirement already satisfied: pytz>=2020.1 in c:\\users\\rafael.shibayama\\documents\\github\\ens410064\\pyenv\\lib\\site-packages (from pandas) (2024.2)\n",
      "Requirement already satisfied: tzdata>=2022.7 in c:\\users\\rafael.shibayama\\documents\\github\\ens410064\\pyenv\\lib\\site-packages (from pandas) (2024.2)\n",
      "Requirement already satisfied: six>=1.5 in c:\\users\\rafael.shibayama\\documents\\github\\ens410064\\pyenv\\lib\\site-packages (from python-dateutil>=2.8.2->pandas) (1.16.0)\n"
     ]
    }
   ],
   "source": [
    "!pip install pandas"
   ]
  },
  {
   "cell_type": "code",
   "execution_count": null,
   "id": "6973d66b-2da9-4b71-8b29-c22575a4d98f",
   "metadata": {},
   "outputs": [],
   "source": []
  }
 ],
 "metadata": {
  "kernelspec": {
   "display_name": "Python 3 (ipykernel)",
   "language": "python",
   "name": "python3"
  },
  "language_info": {
   "codemirror_mode": {
    "name": "ipython",
    "version": 3
   },
   "file_extension": ".py",
   "mimetype": "text/x-python",
   "name": "python",
   "nbconvert_exporter": "python",
   "pygments_lexer": "ipython3",
   "version": "3.12.6"
  }
 },
 "nbformat": 4,
 "nbformat_minor": 5
}
