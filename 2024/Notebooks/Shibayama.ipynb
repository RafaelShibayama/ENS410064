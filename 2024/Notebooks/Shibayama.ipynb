{
 "cells": [
  {
   "cell_type": "markdown",
   "id": "5ea12eae-f73f-4911-a3b8-7913e94eb78a",
   "metadata": {},
   "source": [
    "# Aula 01\n",
    "Nesta aula vamos trabalhar com os comandos básicos do python\n",
    "\n",
    "- Tipo de variáveis\n",
    "- Operações matemáticas\n",
    "- Uso de pacotesnumpy array\n",
    "- condições"
   ]
  },
  {
   "cell_type": "markdown",
   "id": "7a0960b7-a32f-4e54-a45c-202144dc8274",
   "metadata": {},
   "source": [
    "## Tipos de variáveis"
   ]
  },
  {
   "cell_type": "code",
   "execution_count": 5,
   "id": "fc5361c5-c974-45e4-88b4-3b6a903986e5",
   "metadata": {},
   "outputs": [
    {
     "name": "stdout",
     "output_type": "stream",
     "text": [
      "1\n",
      "<class 'int'>\n"
     ]
    }
   ],
   "source": [
    "# números inteiros\n",
    "a = 1\n",
    "print(a)\n",
    "print(type(a))"
   ]
  },
  {
   "cell_type": "code",
   "execution_count": null,
   "id": "a989ab66-605c-4995-ab4e-6cc57e9abd62",
   "metadata": {},
   "outputs": [],
   "source": [
    "## números reais - float - double precision\n",
    "\n",
    "b = 3.1456\n",
    "\n",
    "print ('O valor de b é igual a ' + str(b) + ' (funcionou após transformar)\n",
    "       "
   ]
  },
  {
   "cell_type": "raw",
   "id": "15760bfa-ed3e-4491-b479-55e42ab7a116",
   "metadata": {},
   "source": [
    "# Texto - char - string"
   ]
  },
  {
   "cell_type": "code",
   "execution_count": 15,
   "id": "11105457-fc8f-41a4-b2f3-c2281f74c414",
   "metadata": {},
   "outputs": [
    {
     "name": "stdout",
     "output_type": "stream",
     "text": [
      "['Marcos', 'Maria Eduarda', 'Djesser', 'Rafael']\n",
      "<class 'list'>\n",
      "O tamanho da lista é 4\n",
      "[1, 2, 3, 10, 7]\n",
      "[10, 10, 10, 6, 'José', 'Marcos', 'Rafael', 'Bruno']\n"
     ]
    }
   ],
   "source": [
    "# Lista de texto\n",
    "nameList = ['Marcos', 'Maria Eduarda' ,'Djesser', 'Rafael']\n",
    "\n",
    "print(nameList)\n",
    "\n",
    "print(type(nameList))\n",
    "\n",
    "# Comando para itendificar o tamanho da lista\n",
    "\n",
    "print('O tamanho da lista é ' + str(len(nameList)))\n",
    "\n",
    "# Agor, uma lista de números\n",
    "\n",
    "numList = [1,2,3,10,7]\n",
    "\n",
    "print(numList)\n",
    "\n",
    "# Agora, uma lista de números e strings\n",
    "\n",
    "numNameList = [10,10,10,6,'José', 'Marcos', 'Rafael' , 'Bruno']\n",
    "\n",
    "print(numNameList)"
   ]
  },
  {
   "cell_type": "code",
   "execution_count": 20,
   "id": "0278b606-e66a-4062-8565-6096b58f5718",
   "metadata": {},
   "outputs": [
    {
     "name": "stdout",
     "output_type": "stream",
     "text": [
      "1\n",
      "<class 'int'>\n"
     ]
    }
   ],
   "source": [
    "# Acessando os valores da lista\n",
    "\n",
    "# acessando o primeir ovalor da lista\n",
    "\n",
    "print(numList[0])\n",
    "\n",
    "# Determina o tipo da variavial na posição zero da lista \n",
    "print(type(numList[0]))"
   ]
  },
  {
   "cell_type": "code",
   "execution_count": 26,
   "id": "bab9f73a-bf14-48fa-9364-c545f57ade38",
   "metadata": {},
   "outputs": [
    {
     "name": "stdout",
     "output_type": "stream",
     "text": [
      "<class 'dict'>\n",
      "Larissa\n"
     ]
    }
   ],
   "source": [
    "# Dicionários\n",
    "\n",
    "namesDict = {\n",
    "    'name' : ['Marcos' , 'Larissa' , 'Daphne'],\n",
    "    'Altura' : [1.95, 1.67, 1.63]\n",
    "}\n",
    "\n",
    "print(type(namesDict))\n",
    "\n",
    "namesDict['Altura']\n",
    "\n",
    "# Extraindo o segundo valor da variável altura dentro do dicionário namesDict\n",
    "\n",
    "print(namesDict['name'][1])"
   ]
  },
  {
   "cell_type": "code",
   "execution_count": 35,
   "id": "df322eb1-2989-4f7a-8415-ea4f8f048595",
   "metadata": {},
   "outputs": [
    {
     "ename": "IndentationError",
     "evalue": "expected an indented block after 'for' statement on line 3 (917693963.py, line 4)",
     "output_type": "error",
     "traceback": [
      "\u001b[1;36m  Cell \u001b[1;32mIn[35], line 4\u001b[1;36m\u001b[0m\n\u001b[1;33m    print(Alturas)\u001b[0m\n\u001b[1;37m    ^\u001b[0m\n\u001b[1;31mIndentationError\u001b[0m\u001b[1;31m:\u001b[0m expected an indented block after 'for' statement on line 3\n"
     ]
    }
   ],
   "source": [
    "# Soma das alturas do dicionário namesDict\n",
    "somaDasAlturas = 0\n",
    "for Alturas in namesDict['Altura'] :\n",
    "print(Alturas)\n",
    "somaDasAlturas = somaDasAlturas + Alturas\n",
    "print('A soma das alturas é = '+str(somaDasAlturas))"
   ]
  },
  {
   "cell_type": "code",
   "execution_count": null,
   "id": "2db3dd19-d3d6-4004-aa43-bab4aa6f92b1",
   "metadata": {},
   "outputs": [],
   "source": []
  }
 ],
 "metadata": {
  "kernelspec": {
   "display_name": "Python 3 (ipykernel)",
   "language": "python",
   "name": "python3"
  },
  "language_info": {
   "codemirror_mode": {
    "name": "ipython",
    "version": 3
   },
   "file_extension": ".py",
   "mimetype": "text/x-python",
   "name": "python",
   "nbconvert_exporter": "python",
   "pygments_lexer": "ipython3",
   "version": "3.12.6"
  }
 },
 "nbformat": 4,
 "nbformat_minor": 5
}
