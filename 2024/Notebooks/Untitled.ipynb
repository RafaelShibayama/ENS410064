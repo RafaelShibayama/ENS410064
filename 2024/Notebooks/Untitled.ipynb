{
 "cells": [
  {
   "cell_type": "markdown",
   "id": "5de4d979-9bbd-4958-989a-d7d0d0c444d2",
   "metadata": {},
   "source": [
    "# Aula 02\n",
    "* (continuação dos tipos de variáveis)\n",
    "* pacote numpy\n",
    "* pacote pandas\n",
    "* matblotlib - plotagem de figuras"
   ]
  },
  {
   "cell_type": "markdown",
   "id": "d7be3cf1-bd7d-4e65-bedc-8a0d474915ee",
   "metadata": {},
   "source": [
    "# Continuação tipos de variáveis"
   ]
  },
  {
   "cell_type": "code",
   "execution_count": 52,
   "id": "f4cf3d03-b378-403f-a9f0-49dc719a5170",
   "metadata": {},
   "outputs": [
    {
     "name": "stdout",
     "output_type": "stream",
     "text": [
      "[1, 2, 3, 10, 20, 30]\n",
      "30\n"
     ]
    }
   ],
   "source": [
    "# Exemlo lista\n",
    "\n",
    "a = [1,2,3,10,20,30]\n",
    "print (a)\n",
    "\n",
    "# indexação\n",
    "print (a[-1])"
   ]
  },
  {
   "cell_type": "code",
   "execution_count": 53,
   "id": "71a04cd0-f39e-433b-9f76-7a6eedb8bd63",
   "metadata": {},
   "outputs": [
    {
     "name": "stdout",
     "output_type": "stream",
     "text": [
      "o comprimento da lista a é: 6\n"
     ]
    }
   ],
   "source": [
    "#determinando o comprimento da lista\n",
    "b = len(a)\n",
    "print('o comprimento da lista a é: ' +str(b))"
   ]
  },
  {
   "cell_type": "markdown",
   "id": "be7158e6-0c9b-43a7-bbd4-c0b7bd4b9d4f",
   "metadata": {},
   "source": [
    "## O pacote numpy\n",
    "https://numpy.org/\n",
    "\n",
    "Este pacote serve para operações matriciais e estatísticas básicas"
   ]
  },
  {
   "cell_type": "code",
   "execution_count": 54,
   "id": "0eb6a5bb-d24b-40d3-8848-8b70f51486cf",
   "metadata": {},
   "outputs": [],
   "source": [
    "# Importanto o numpy\n",
    "import numpy as np"
   ]
  },
  {
   "cell_type": "code",
   "execution_count": 60,
   "id": "da39cd83-6375-4131-a586-51b59654e66b",
   "metadata": {},
   "outputs": [
    {
     "name": "stdout",
     "output_type": "stream",
     "text": [
      "O último valor de c é:0.880025529775699\n",
      "\n",
      "Os 10 primeiros valores da lista são:[0.69791844 0.70754435 0.86056004 0.65729916 0.96873551 0.7611043\n",
      " 0.18425292 0.4167349  0.86779909 0.65182913]\n",
      "1 0.7075443495947179\n",
      "2 0.8605600368213476\n",
      "3 0.6572991615483414\n",
      "4 0.9687355112037687\n",
      "5 0.7611043026074075\n",
      "6 0.18425292028450224\n",
      "7 0.41673490409123337\n",
      "8 0.8677990944659417\n",
      "9 0.6518291272568535\n",
      "\n",
      "O shape da matriz c é:\n",
      "(100,)\n",
      "[[0.94907982 0.8213316  0.05457063 ... 0.93482984 0.27744069 0.4794694 ]\n",
      " [0.29644996 0.21703683 0.55740855 ... 0.41216267 0.15941554 0.92270041]\n",
      " [0.94302329 0.0434942  0.87521612 ... 0.88223466 0.87711381 0.62364248]\n",
      " ...\n",
      " [0.21713106 0.05572098 0.98292828 ... 0.401042   0.74310965 0.38593372]\n",
      " [0.41101969 0.15409593 0.71271486 ... 0.30899446 0.06843309 0.27085787]\n",
      " [0.07038069 0.06514862 0.29454373 ... 0.20321241 0.70631931 0.20547811]]\n",
      "Qual é o shape/dimensão da matriz?\n",
      "(100, 100)\n",
      "Intexação numpy - matriz 20\n",
      "0.7488706468537233\n"
     ]
    }
   ],
   "source": [
    "# criando um número aleatório com numpy\n",
    "\n",
    "c = np.random.rand(100)\n",
    "\n",
    "# acessando o último valor do array numpy\n",
    "\n",
    "print('O último valor de c é:' + str(c[-1]))\n",
    "print(\"\")\n",
    "\n",
    "# acessando os 10 primeiros valores\n",
    "\n",
    "print('Os 10 primeiros valores da lista são:'+str(c[0:10]))\n",
    "\n",
    "# loop com um numpy array\n",
    "for ii in range(1,10):\n",
    "    print(str(ii) +' '+ str(c[ii]))\n",
    "\n",
    "\n",
    "print(\"\")\n",
    "# O comprimento do numpy array - shape da matriz\n",
    "print('O shape da matriz c é:')\n",
    "print(np.shape(c))\n",
    "\n",
    "# criando um matriz numpy\n",
    "d = np.random.rand(100,100)\n",
    "print(d)\n",
    "\n",
    "print('Qual é o shape/dimensão da matriz?')\n",
    "print(np.shape(d))\n",
    "\n",
    "# Acessando a matriz numpy\n",
    "# a linha 11 e coluna 11\n",
    "print('Intexação numpy - matriz 20')\n",
    "print(d[10,10])"
   ]
  },
  {
   "cell_type": "code",
   "execution_count": 57,
   "id": "eef82551-e359-44e0-9954-1e3d928b2915",
   "metadata": {},
   "outputs": [
    {
     "name": "stdout",
     "output_type": "stream",
     "text": [
      "[0.05528529 0.04384103 0.55677478 0.23582703 0.74438536 0.88857975\n",
      " 0.32643253 0.29041941 0.74670883 0.87935545 0.2812559  0.7659763\n",
      " 0.28527617 0.54444449 0.40572523 0.41837886 0.21326894 0.29809642\n",
      " 0.38733485 0.25653051 0.53673362 0.04229847 0.96779886 0.28796758\n",
      " 0.30067635 0.06364244 0.53980272 0.35421095 0.08053962 0.76788203\n",
      " 0.42964956 0.21037257 0.48106505 0.57535424 0.60787622 0.95946983\n",
      " 0.49523291 0.71682666 0.47719113 0.71797701 0.43739112 0.19304886\n",
      " 0.47096648 0.25631072 0.10506468 0.07280032 0.49694313 0.14573587\n",
      " 0.50117937 0.92884221]\n",
      "0 0.055285289400620385\n",
      "1 0.04384103179181975\n",
      "2 0.5567747789456162\n",
      "3 0.23582702704862513\n",
      "4 0.7443853645891793\n",
      "5 0.8885797534749398\n",
      "6 0.32643253329917143\n",
      "7 0.2904194108801459\n",
      "8 0.7467088325908082\n",
      "9 0.8793554485580709\n",
      "(50,)\n"
     ]
    }
   ],
   "source": [
    "c = np.random.rand(50)\n",
    "print(c)\n",
    "\n",
    "for i in range(0,10):\n",
    "    print(str(i)+' '+str(c[i]))\n",
    "\n",
    "print(c.shape)"
   ]
  },
  {
   "cell_type": "code",
   "execution_count": 63,
   "id": "64ecbbd6-a218-4b5a-9c9b-7ab08fad6069",
   "metadata": {},
   "outputs": [
    {
     "name": "stdout",
     "output_type": "stream",
     "text": [
      "(365, 100, 100)\n"
     ]
    }
   ],
   "source": [
    "# Gerando uma matriz 3D\n",
    "\n",
    "mat3D = np.random.rand(365,100,100)\n",
    "print(np.shape(mat3D))"
   ]
  },
  {
   "cell_type": "code",
   "execution_count": 65,
   "id": "05b264ac-5777-43ba-b50f-71002dfb9ef1",
   "metadata": {},
   "outputs": [
    {
     "name": "stdout",
     "output_type": "stream",
     "text": [
      "[0.80973017 0.88298501 0.07004713 0.20253603 0.17223039 0.37694559\n",
      " 0.13480866 0.82721226 0.82449662 0.44799993]\n",
      "[0.67034128 0.144521   0.88399822 0.45530554 0.09102995 0.39088051\n",
      " 0.14712971 0.05935814 0.63557429 0.7009002 ]\n"
     ]
    }
   ],
   "source": [
    "## acessando todos os valores da primeira dimensão na célua 49, 49\n",
    "\n",
    "# 10 primeiros valores da série\n",
    "timeSeries = mat3D[:10,49,49]\n",
    "print(timeSeries)\n",
    "\n",
    "# 10 últimos valores da ´serie\n",
    "timeSeries = mat3D[-10:,49,49]\n",
    "print(timeSeries)"
   ]
  },
  {
   "cell_type": "code",
   "execution_count": 69,
   "id": "a0b834c0-e70f-4326-ae1d-0dfcc5f9a493",
   "metadata": {},
   "outputs": [
    {
     "name": "stdout",
     "output_type": "stream",
     "text": [
      "(365, 2)\n",
      "(365, 2)\n",
      "(2, 365)\n"
     ]
    }
   ],
   "source": [
    "\n",
    "timeSeries2 = mat3D[:,50:52,50]\n",
    "print(np.shape(timeSeries2))\n",
    "print(timeSeries2.shape)\n",
    "\n",
    "timeSeriesTransposta = timeSeries2.transpose()\n",
    "print(timeSeriesTransposta.shape)"
   ]
  },
  {
   "cell_type": "code",
   "execution_count": 75,
   "id": "7d5a7921-42fb-49b6-b4e9-7872072be505",
   "metadata": {},
   "outputs": [
    {
     "name": "stdout",
     "output_type": "stream",
     "text": [
      "0.4932097845935318\n",
      "[0.49699846 0.48942111]\n",
      "essa é a média de cada linha\n"
     ]
    },
    {
     "ename": "NameError",
     "evalue": "name 'mediaTSrows' is not defined",
     "output_type": "error",
     "traceback": [
      "\u001b[1;31m---------------------------------------------------------------------------\u001b[0m",
      "\u001b[1;31mNameError\u001b[0m                                 Traceback (most recent call last)",
      "Cell \u001b[1;32mIn[75], line 13\u001b[0m\n\u001b[0;32m     11\u001b[0m \u001b[38;5;28mprint\u001b[39m(\u001b[38;5;124m'\u001b[39m\u001b[38;5;124messa é a média de cada linha\u001b[39m\u001b[38;5;124m'\u001b[39m)\n\u001b[0;32m     12\u001b[0m mediaTSrpw \u001b[38;5;241m=\u001b[39m np\u001b[38;5;241m.\u001b[39mmean(timeSeries2,axis\u001b[38;5;241m=\u001b[39m\u001b[38;5;241m1\u001b[39m)\n\u001b[1;32m---> 13\u001b[0m \u001b[38;5;28mprint\u001b[39m(\u001b[43mmediaTSrows\u001b[49m\u001b[38;5;241m.\u001b[39mshape)\n",
      "\u001b[1;31mNameError\u001b[0m: name 'mediaTSrows' is not defined"
     ]
    }
   ],
   "source": [
    "# Estatística com numpy\n",
    "\n",
    "mediaTS = np.mean(timeSeries2)\n",
    "print(mediaTS)\n",
    "\n",
    "# média das colunas\n",
    "mediaTScolums = np.mean(timeSeries2,axis=0)\n",
    "print(mediaTScolums)\n",
    "\n",
    "# média nas linhas \n",
    "print('essa é a média de cada linha')\n",
    "mediaTSrpw = np.mean(timeSeries2,axis=1)\n",
    "print(mediaTSrows.shape)"
   ]
  },
  {
   "cell_type": "code",
   "execution_count": 87,
   "id": "eb93677d-efe4-451f-a9c6-12f7a6a8e19e",
   "metadata": {},
   "outputs": [
    {
     "name": "stdout",
     "output_type": "stream",
     "text": [
      "0.5000145009351327\n",
      "2.0788416232875306e-07\n",
      "0.8998988186381836\n",
      "0.4999518625078547\n"
     ]
    },
    {
     "ename": "NameError",
     "evalue": "name 'std3D' is not defined",
     "output_type": "error",
     "traceback": [
      "\u001b[1;31m---------------------------------------------------------------------------\u001b[0m",
      "\u001b[1;31mNameError\u001b[0m                                 Traceback (most recent call last)",
      "Cell \u001b[1;32mIn[87], line 20\u001b[0m\n\u001b[0;32m     17\u001b[0m \u001b[38;5;28mprint\u001b[39m(median3D)\n\u001b[0;32m     19\u001b[0m \u001b[38;5;66;03m#mvariancia\u001b[39;00m\n\u001b[1;32m---> 20\u001b[0m var3D \u001b[38;5;241m=\u001b[39m \u001b[43mstd3D\u001b[49m\u001b[38;5;241m*\u001b[39m\u001b[38;5;241m*\u001b[39m\u001b[38;5;241m2\u001b[39m\n\u001b[0;32m     21\u001b[0m \u001b[38;5;28mprint\u001b[39m(var3D)\n\u001b[0;32m     22\u001b[0m var3D \u001b[38;5;241m=\u001b[39m np\u001b[38;5;241m.\u001b[39mvar(mat3D)\n",
      "\u001b[1;31mNameError\u001b[0m: name 'std3D' is not defined"
     ]
    }
   ],
   "source": [
    "# média míniimo, máximo, desvio, percentil, mediana, variância\n",
    "\n",
    "#média\n",
    "media3D = np.mean(mat3D)\n",
    "print(media3D)\n",
    "\n",
    "#mínimo\n",
    "min3D = np.min(mat3D)\n",
    "print(min3D)\n",
    "\n",
    "#percentil\n",
    "pct3D = np.percentile(mat3D,90)\n",
    "print(pct3D)\n",
    "\n",
    "#mediana\n",
    "median3D = np.median(mat3D)\n",
    "print(median3D)\n",
    "\n",
    "#mvariancia\n",
    "var3D = std3D**2\n",
    "print(var3D)\n",
    "var3D = np.var(mat3D)\n",
    "print(var3D)"
   ]
  },
  {
   "cell_type": "markdown",
   "id": "48eec911-b3d7-4068-9468-08263bf43745",
   "metadata": {},
   "source": [
    "# plotando com matplotlib\n",
    "\"plot\n",
    "-histogram\n",
    "-barbox\n",
    "-pcolor"
   ]
  },
  {
   "cell_type": "code",
   "execution_count": 97,
   "id": "3c339f1e-920c-485f-802c-16e33fdde6b7",
   "metadata": {},
   "outputs": [
    {
     "ename": "SyntaxError",
     "evalue": "incomplete input (4144091814.py, line 12)",
     "output_type": "error",
     "traceback": [
      "\u001b[1;36m  Cell \u001b[1;32mIn[97], line 12\u001b[1;36m\u001b[0m\n\u001b[1;33m    ax.boxplot(mat3d[:,10:20,0]\u001b[0m\n\u001b[1;37m                               ^\u001b[0m\n\u001b[1;31mSyntaxError\u001b[0m\u001b[1;31m:\u001b[0m incomplete input\n"
     ]
    }
   ],
   "source": [
    "# imprortando o pacote matplotlib\n",
    "\n",
    "import matplotlib.pyplot as plt\n",
    "\n",
    "fig.aux = plt.subplot(3)\n",
    "print(fig.aux)\n",
    "\n",
    "\n",
    "# boxplot\n",
    "\n",
    "fig.ax = plt.subplot()\n",
    "ax.boxplot(mat3d[:,10:20,0]"
   ]
  },
  {
   "cell_type": "code",
   "execution_count": 96,
   "id": "3dff1303-c6ef-42f2-96ff-47cd645225f0",
   "metadata": {},
   "outputs": [
    {
     "ename": "ParserError",
     "evalue": "Error tokenizing data. C error: Expected 4 fields in line 3, saw 5\n",
     "output_type": "error",
     "traceback": [
      "\u001b[1;31m---------------------------------------------------------------------------\u001b[0m",
      "\u001b[1;31mParserError\u001b[0m                               Traceback (most recent call last)",
      "Cell \u001b[1;32mIn[96], line 4\u001b[0m\n\u001b[0;32m      1\u001b[0m \u001b[38;5;28;01mimport\u001b[39;00m \u001b[38;5;21;01mpandas\u001b[39;00m \u001b[38;5;28;01mas\u001b[39;00m \u001b[38;5;21;01mpd\u001b[39;00m\n\u001b[0;32m      3\u001b[0m path \u001b[38;5;241m=\u001b[39m \u001b[38;5;124mr\u001b[39m\u001b[38;5;124m'\u001b[39m\u001b[38;5;124mC:\u001b[39m\u001b[38;5;124m\\\u001b[39m\u001b[38;5;124mUsers\u001b[39m\u001b[38;5;124m\\\u001b[39m\u001b[38;5;124mrafael.shibayama\u001b[39m\u001b[38;5;124m\\\u001b[39m\u001b[38;5;124mDocuments\u001b[39m\u001b[38;5;124m\\\u001b[39m\u001b[38;5;124mGitHub\u001b[39m\u001b[38;5;124m\\\u001b[39m\u001b[38;5;124mENS410064\u001b[39m\u001b[38;5;124m\\\u001b[39m\u001b[38;5;124m2024\u001b[39m\u001b[38;5;124m\\\u001b[39m\u001b[38;5;124mcnuc_2024_02-2.csv\u001b[39m\u001b[38;5;124m'\u001b[39m\n\u001b[1;32m----> 4\u001b[0m df \u001b[38;5;241m=\u001b[39m \u001b[43mpd\u001b[49m\u001b[38;5;241;43m.\u001b[39;49m\u001b[43mread_csv\u001b[49m\u001b[43m(\u001b[49m\u001b[43mpath\u001b[49m\u001b[43m)\u001b[49m\n",
      "File \u001b[1;32m~\\Documents\\GitHub\\ENS410064\\pyEnv\\Lib\\site-packages\\pandas\\io\\parsers\\readers.py:1026\u001b[0m, in \u001b[0;36mread_csv\u001b[1;34m(filepath_or_buffer, sep, delimiter, header, names, index_col, usecols, dtype, engine, converters, true_values, false_values, skipinitialspace, skiprows, skipfooter, nrows, na_values, keep_default_na, na_filter, verbose, skip_blank_lines, parse_dates, infer_datetime_format, keep_date_col, date_parser, date_format, dayfirst, cache_dates, iterator, chunksize, compression, thousands, decimal, lineterminator, quotechar, quoting, doublequote, escapechar, comment, encoding, encoding_errors, dialect, on_bad_lines, delim_whitespace, low_memory, memory_map, float_precision, storage_options, dtype_backend)\u001b[0m\n\u001b[0;32m   1013\u001b[0m kwds_defaults \u001b[38;5;241m=\u001b[39m _refine_defaults_read(\n\u001b[0;32m   1014\u001b[0m     dialect,\n\u001b[0;32m   1015\u001b[0m     delimiter,\n\u001b[1;32m   (...)\u001b[0m\n\u001b[0;32m   1022\u001b[0m     dtype_backend\u001b[38;5;241m=\u001b[39mdtype_backend,\n\u001b[0;32m   1023\u001b[0m )\n\u001b[0;32m   1024\u001b[0m kwds\u001b[38;5;241m.\u001b[39mupdate(kwds_defaults)\n\u001b[1;32m-> 1026\u001b[0m \u001b[38;5;28;01mreturn\u001b[39;00m \u001b[43m_read\u001b[49m\u001b[43m(\u001b[49m\u001b[43mfilepath_or_buffer\u001b[49m\u001b[43m,\u001b[49m\u001b[43m \u001b[49m\u001b[43mkwds\u001b[49m\u001b[43m)\u001b[49m\n",
      "File \u001b[1;32m~\\Documents\\GitHub\\ENS410064\\pyEnv\\Lib\\site-packages\\pandas\\io\\parsers\\readers.py:626\u001b[0m, in \u001b[0;36m_read\u001b[1;34m(filepath_or_buffer, kwds)\u001b[0m\n\u001b[0;32m    623\u001b[0m     \u001b[38;5;28;01mreturn\u001b[39;00m parser\n\u001b[0;32m    625\u001b[0m \u001b[38;5;28;01mwith\u001b[39;00m parser:\n\u001b[1;32m--> 626\u001b[0m     \u001b[38;5;28;01mreturn\u001b[39;00m \u001b[43mparser\u001b[49m\u001b[38;5;241;43m.\u001b[39;49m\u001b[43mread\u001b[49m\u001b[43m(\u001b[49m\u001b[43mnrows\u001b[49m\u001b[43m)\u001b[49m\n",
      "File \u001b[1;32m~\\Documents\\GitHub\\ENS410064\\pyEnv\\Lib\\site-packages\\pandas\\io\\parsers\\readers.py:1923\u001b[0m, in \u001b[0;36mTextFileReader.read\u001b[1;34m(self, nrows)\u001b[0m\n\u001b[0;32m   1916\u001b[0m nrows \u001b[38;5;241m=\u001b[39m validate_integer(\u001b[38;5;124m\"\u001b[39m\u001b[38;5;124mnrows\u001b[39m\u001b[38;5;124m\"\u001b[39m, nrows)\n\u001b[0;32m   1917\u001b[0m \u001b[38;5;28;01mtry\u001b[39;00m:\n\u001b[0;32m   1918\u001b[0m     \u001b[38;5;66;03m# error: \"ParserBase\" has no attribute \"read\"\u001b[39;00m\n\u001b[0;32m   1919\u001b[0m     (\n\u001b[0;32m   1920\u001b[0m         index,\n\u001b[0;32m   1921\u001b[0m         columns,\n\u001b[0;32m   1922\u001b[0m         col_dict,\n\u001b[1;32m-> 1923\u001b[0m     ) \u001b[38;5;241m=\u001b[39m \u001b[38;5;28;43mself\u001b[39;49m\u001b[38;5;241;43m.\u001b[39;49m\u001b[43m_engine\u001b[49m\u001b[38;5;241;43m.\u001b[39;49m\u001b[43mread\u001b[49m\u001b[43m(\u001b[49m\u001b[43m  \u001b[49m\u001b[38;5;66;43;03m# type: ignore[attr-defined]\u001b[39;49;00m\n\u001b[0;32m   1924\u001b[0m \u001b[43m        \u001b[49m\u001b[43mnrows\u001b[49m\n\u001b[0;32m   1925\u001b[0m \u001b[43m    \u001b[49m\u001b[43m)\u001b[49m\n\u001b[0;32m   1926\u001b[0m \u001b[38;5;28;01mexcept\u001b[39;00m \u001b[38;5;167;01mException\u001b[39;00m:\n\u001b[0;32m   1927\u001b[0m     \u001b[38;5;28mself\u001b[39m\u001b[38;5;241m.\u001b[39mclose()\n",
      "File \u001b[1;32m~\\Documents\\GitHub\\ENS410064\\pyEnv\\Lib\\site-packages\\pandas\\io\\parsers\\c_parser_wrapper.py:234\u001b[0m, in \u001b[0;36mCParserWrapper.read\u001b[1;34m(self, nrows)\u001b[0m\n\u001b[0;32m    232\u001b[0m \u001b[38;5;28;01mtry\u001b[39;00m:\n\u001b[0;32m    233\u001b[0m     \u001b[38;5;28;01mif\u001b[39;00m \u001b[38;5;28mself\u001b[39m\u001b[38;5;241m.\u001b[39mlow_memory:\n\u001b[1;32m--> 234\u001b[0m         chunks \u001b[38;5;241m=\u001b[39m \u001b[38;5;28;43mself\u001b[39;49m\u001b[38;5;241;43m.\u001b[39;49m\u001b[43m_reader\u001b[49m\u001b[38;5;241;43m.\u001b[39;49m\u001b[43mread_low_memory\u001b[49m\u001b[43m(\u001b[49m\u001b[43mnrows\u001b[49m\u001b[43m)\u001b[49m\n\u001b[0;32m    235\u001b[0m         \u001b[38;5;66;03m# destructive to chunks\u001b[39;00m\n\u001b[0;32m    236\u001b[0m         data \u001b[38;5;241m=\u001b[39m _concatenate_chunks(chunks)\n",
      "File \u001b[1;32mparsers.pyx:838\u001b[0m, in \u001b[0;36mpandas._libs.parsers.TextReader.read_low_memory\u001b[1;34m()\u001b[0m\n",
      "File \u001b[1;32mparsers.pyx:905\u001b[0m, in \u001b[0;36mpandas._libs.parsers.TextReader._read_rows\u001b[1;34m()\u001b[0m\n",
      "File \u001b[1;32mparsers.pyx:874\u001b[0m, in \u001b[0;36mpandas._libs.parsers.TextReader._tokenize_rows\u001b[1;34m()\u001b[0m\n",
      "File \u001b[1;32mparsers.pyx:891\u001b[0m, in \u001b[0;36mpandas._libs.parsers.TextReader._check_tokenize_status\u001b[1;34m()\u001b[0m\n",
      "File \u001b[1;32mparsers.pyx:2061\u001b[0m, in \u001b[0;36mpandas._libs.parsers.raise_parser_error\u001b[1;34m()\u001b[0m\n",
      "\u001b[1;31mParserError\u001b[0m: Error tokenizing data. C error: Expected 4 fields in line 3, saw 5\n"
     ]
    }
   ],
   "source": [
    "import pandas as pd\n",
    "\n",
    "path = r'C:\\Users\\rafael.shibayama\\Documents\\GitHub\\ENS410064\\2024\\cnuc_2024_02-2.csv'\n",
    "df = pd.read_csv(path)"
   ]
  }
 ],
 "metadata": {
  "kernelspec": {
   "display_name": "Python 3 (ipykernel)",
   "language": "python",
   "name": "python3"
  },
  "language_info": {
   "codemirror_mode": {
    "name": "ipython",
    "version": 3
   },
   "file_extension": ".py",
   "mimetype": "text/x-python",
   "name": "python",
   "nbconvert_exporter": "python",
   "pygments_lexer": "ipython3",
   "version": "3.12.6"
  }
 },
 "nbformat": 4,
 "nbformat_minor": 5
}
