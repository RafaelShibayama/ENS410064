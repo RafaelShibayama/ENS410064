{
 "cells": [
  {
   "cell_type": "code",
   "execution_count": 1,
   "id": "8f08f455-63e4-4d1c-81dd-f848bc08bfd9",
   "metadata": {},
   "outputs": [],
   "source": [
    "import os\n",
    "import numpy as np\n",
    "import pandas as pd\n",
    "import matplotlib.pyplot as plt"
   ]
  },
  {
   "cell_type": "code",
   "execution_count": 4,
   "id": "4ac94b21-252f-488b-bc56-a9175b77615e",
   "metadata": {},
   "outputs": [
    {
     "name": "stdout",
     "output_type": "stream",
     "text": [
      "Diretório atual: C:\\Users\\rafael.shibayama\\Documents\\GitHub\\ENS410064\\2024\n",
      "Diretório de dados:C:\\Users\\rafael.shibayama\\Documents\\GitHub\\ENS410064\\dados\n"
     ]
    }
   ],
   "source": [
    "cwd = os.getcwd()\n",
    "\n",
    "print('Diretório atual: ' + cwd)\n",
    "\n",
    "dataPath = os.path.dirname(cwd) +'\\\\dados'\n",
    "\n",
    "print('Diretório de dados:' + dataPath)"
   ]
  },
  {
   "cell_type": "code",
   "execution_count": 5,
   "id": "f9d107a3-0e83-4560-a821-0bce532b378d",
   "metadata": {},
   "outputs": [
    {
     "name": "stdout",
     "output_type": "stream",
     "text": [
      "['chuvas_437013.csv', 'chuvas_536012.csv']\n"
     ]
    },
    {
     "data": {
      "text/plain": [
       "'chuvas_437013.csv'"
      ]
     },
     "execution_count": 5,
     "metadata": {},
     "output_type": "execute_result"
    }
   ],
   "source": [
    "dataList = os.listdir(dataPath)\n",
    "\n",
    "print(dataList)\n",
    "\n",
    "dataList[0]"
   ]
  }
 ],
 "metadata": {
  "kernelspec": {
   "display_name": "Python 3 (ipykernel)",
   "language": "python",
   "name": "python3"
  },
  "language_info": {
   "codemirror_mode": {
    "name": "ipython",
    "version": 3
   },
   "file_extension": ".py",
   "mimetype": "text/x-python",
   "name": "python",
   "nbconvert_exporter": "python",
   "pygments_lexer": "ipython3",
   "version": "3.12.6"
  }
 },
 "nbformat": 4,
 "nbformat_minor": 5
}
